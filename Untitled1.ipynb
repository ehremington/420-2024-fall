{
 "cells": [
  {
   "cell_type": "code",
   "execution_count": 9,
   "id": "07e1479e-245f-4e2a-a53d-ddc1739b3fde",
   "metadata": {},
   "outputs": [
    {
     "data": {
      "application/vnd.jupyter.widget-view+json": {
       "model_id": "3461f8464222475aafb4777685efd9f2",
       "version_major": 2,
       "version_minor": 0
      },
      "text/plain": [
       "Canvas(toolbar=Toolbar(toolitems=[('Home', 'Reset original view', 'home', 'home'), ('Back', 'Back to previous …"
      ]
     },
     "metadata": {},
     "output_type": "display_data"
    },
    {
     "data": {
      "text/plain": [
       "[<matplotlib.lines.Line2D at 0x7f5d299bafd0>]"
      ]
     },
     "execution_count": 9,
     "metadata": {},
     "output_type": "execute_result"
    }
   ],
   "source": [
    "import numpy as np\n",
    "import matplotlib.pyplot as plt\n",
    "from scipy.special import factorial\n",
    "\n",
    "x = [0,1,2,3,4,5]\n",
    "y = [109, 65, 22, 3, 1, 0]\n",
    "\n",
    "fig, ax = plt.subplots()\n",
    "ax.plot(x, y, 'o', mfc='none')\n",
    "ax.set_xlabel('number of death')\n",
    "ax.set_ylabel('frequency of deaths')\n",
    "\n",
    "def deaths(number):\n",
    "    return(np.exp(-0.61)*np.power(0.61, number)/factorial(number))\n",
    "\n",
    "ax.plot(x, deaths(x)*200, '^')"
   ]
  },
  {
   "cell_type": "code",
   "execution_count": null,
   "id": "bac47b78-1dda-44c3-8987-d705b583248c",
   "metadata": {},
   "outputs": [],
   "source": []
  }
 ],
 "metadata": {
  "kernelspec": {
   "display_name": "Python 3",
   "language": "python",
   "name": "python3"
  },
  "language_info": {
   "codemirror_mode": {
    "name": "ipython",
    "version": 3
   },
   "file_extension": ".py",
   "mimetype": "text/x-python",
   "name": "python",
   "nbconvert_exporter": "python",
   "pygments_lexer": "ipython3",
   "version": "3.6.13"
  }
 },
 "nbformat": 4,
 "nbformat_minor": 5
}
