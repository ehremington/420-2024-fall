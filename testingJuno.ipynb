{
 "cells": [
  {
   "metadata": {},
   "cell_type": "markdown",
   "source": "# working Blundell 3.3\nThis is work for part (c) of Blundell 3.3."
  },
  {
   "metadata": {
    "trusted": true
   },
   "cell_type": "code",
   "source": "import matplotlib.pyplot as plt\nimport numpy as np\nfrom scipy.special import factorial\n\nx = [0, 1, 2, 3, 4, 5]\ny = [109, 65, 22, 3, 1, 0]\n\nfig, ax = plt.subplots()\nax.plot(x,y, 'o', mfc=\"none\", label='deaths')\n\ndef deaths(number):\n    return np.exp(-.61)*np.power(0.61,number)/factorial(number)\n\nax.plot(x, deaths(x)*200)\nax.set_xlabel('number of deaths')\nax.set_ylabel('frequency of deaths')\n",
   "execution_count": null,
   "outputs": []
  },
  {
   "metadata": {
    "trusted": true
   },
   "cell_type": "code",
   "source": "np.power(0.61,x)",
   "execution_count": 4,
   "outputs": [
    {
     "output_type": "execute_result",
     "execution_count": 4,
     "data": {
      "text/plain": "array([1.        , 0.61      , 0.3721    , 0.226981  , 0.13845841,\n       0.08445963])"
     },
     "metadata": {}
    }
   ]
  },
  {
   "metadata": {
    "trusted": true
   },
   "cell_type": "code",
   "source": "deaths(x)",
   "execution_count": 6,
   "outputs": [
    {
     "output_type": "execute_result",
     "execution_count": 6,
     "data": {
      "text/plain": "array([5.43350869e-01, 3.31444030e-01, 1.01090429e-01, 2.05550539e-02,\n       3.13464573e-03, 3.82426778e-04])"
     },
     "metadata": {}
    }
   ]
  },
  {
   "metadata": {
    "trusted": true
   },
   "cell_type": "code",
   "source": "",
   "execution_count": null,
   "outputs": []
  }
 ],
 "metadata": {
  "kernelspec": {
   "name": "python3",
   "display_name": "Python 3",
   "language": "python"
  },
  "language_info": {
   "name": "python",
   "version": "3.10.4",
   "mimetype": "text/x-python",
   "codemirror_mode": {
    "name": "ipython",
    "version": 3
   },
   "pygments_lexer": "ipython3",
   "nbconvert_exporter": "python",
   "file_extension": ".py"
  }
 },
 "nbformat": 4,
 "nbformat_minor": 2
}