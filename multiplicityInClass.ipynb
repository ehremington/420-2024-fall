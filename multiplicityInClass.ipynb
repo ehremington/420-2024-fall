{
 "cells": [
  {
   "cell_type": "code",
   "execution_count": 1,
   "id": "d3056e65-84b9-493a-953f-f209352c5da5",
   "metadata": {},
   "outputs": [],
   "source": [
    "%matplotlib widget"
   ]
  },
  {
   "cell_type": "code",
   "execution_count": 2,
   "id": "0c1ce9cc-4c09-4c58-ae28-7863201e1193",
   "metadata": {},
   "outputs": [],
   "source": [
    "import numpy as np\n",
    "import pandas as pd\n",
    "import matplotlib.pyplot as plt\n",
    "import scipy.special as sp\n"
   ]
  },
  {
   "cell_type": "code",
   "execution_count": 3,
   "id": "f7679c70-ac92-4dc2-917f-35bc93a2fd13",
   "metadata": {},
   "outputs": [],
   "source": [
    "pd.set_option('display.max_colwidth', None)\n",
    "pd.set_option('display.max_columns', None)\n",
    "pd.set_option('display.max_rows', None)"
   ]
  },
  {
   "cell_type": "code",
   "execution_count": 4,
   "id": "813533ce-c1b0-4ebc-9cf3-0fe387ac61d8",
   "metadata": {},
   "outputs": [],
   "source": [
    "def factorial(x):\n",
    "    return sp.factorial(x, exact=True)\n",
    "\n",
    "def multiplicity(N, q):\n",
    "    return factorial(q+N-1)//factorial(q)//factorial(N-1)\n",
    "\n",
    "def logArray(array):\n",
    "    import math\n",
    "    return [math.log(x) for x in array]"
   ]
  },
  {
   "cell_type": "markdown",
   "id": "376442cf-f6c4-4b7e-92bc-5e4e87959b0e",
   "metadata": {},
   "source": [
    "## two einstein solids\n",
    "\n",
    "### 3 particles each and 6 energy units"
   ]
  },
  {
   "cell_type": "code",
   "execution_count": 5,
   "id": "a25cf281-6788-4cbf-8d60-4ce11d64713d",
   "metadata": {},
   "outputs": [],
   "source": [
    "table0 = pd.DataFrame()\n",
    "table0['q_A'] = range(0,6+1, 1)\n",
    "table0['q_B'] = range(6, 0-1, -1)\n",
    "table0['mult_A'] = [multiplicity(3, i) for i in table0['q_A']]\n",
    "table0['mult_B'] = [multiplicity(3, i) for i in table0['q_B']]\n",
    "table0['mult_total'] = table0['mult_A']*table0['mult_B']"
   ]
  },
  {
   "cell_type": "code",
   "execution_count": 6,
   "id": "e4116154-2227-4822-b3e2-0f7209ebad67",
   "metadata": {},
   "outputs": [
    {
     "data": {
      "text/html": [
       "<div>\n",
       "<style scoped>\n",
       "    .dataframe tbody tr th:only-of-type {\n",
       "        vertical-align: middle;\n",
       "    }\n",
       "\n",
       "    .dataframe tbody tr th {\n",
       "        vertical-align: top;\n",
       "    }\n",
       "\n",
       "    .dataframe thead th {\n",
       "        text-align: right;\n",
       "    }\n",
       "</style>\n",
       "<table border=\"1\" class=\"dataframe\">\n",
       "  <thead>\n",
       "    <tr style=\"text-align: right;\">\n",
       "      <th></th>\n",
       "      <th>q_A</th>\n",
       "      <th>q_B</th>\n",
       "      <th>mult_A</th>\n",
       "      <th>mult_B</th>\n",
       "      <th>mult_total</th>\n",
       "    </tr>\n",
       "  </thead>\n",
       "  <tbody>\n",
       "    <tr>\n",
       "      <th>0</th>\n",
       "      <td>0</td>\n",
       "      <td>6</td>\n",
       "      <td>1</td>\n",
       "      <td>28</td>\n",
       "      <td>28</td>\n",
       "    </tr>\n",
       "    <tr>\n",
       "      <th>1</th>\n",
       "      <td>1</td>\n",
       "      <td>5</td>\n",
       "      <td>3</td>\n",
       "      <td>21</td>\n",
       "      <td>63</td>\n",
       "    </tr>\n",
       "    <tr>\n",
       "      <th>2</th>\n",
       "      <td>2</td>\n",
       "      <td>4</td>\n",
       "      <td>6</td>\n",
       "      <td>15</td>\n",
       "      <td>90</td>\n",
       "    </tr>\n",
       "    <tr>\n",
       "      <th>3</th>\n",
       "      <td>3</td>\n",
       "      <td>3</td>\n",
       "      <td>10</td>\n",
       "      <td>10</td>\n",
       "      <td>100</td>\n",
       "    </tr>\n",
       "    <tr>\n",
       "      <th>4</th>\n",
       "      <td>4</td>\n",
       "      <td>2</td>\n",
       "      <td>15</td>\n",
       "      <td>6</td>\n",
       "      <td>90</td>\n",
       "    </tr>\n",
       "    <tr>\n",
       "      <th>5</th>\n",
       "      <td>5</td>\n",
       "      <td>1</td>\n",
       "      <td>21</td>\n",
       "      <td>3</td>\n",
       "      <td>63</td>\n",
       "    </tr>\n",
       "    <tr>\n",
       "      <th>6</th>\n",
       "      <td>6</td>\n",
       "      <td>0</td>\n",
       "      <td>28</td>\n",
       "      <td>1</td>\n",
       "      <td>28</td>\n",
       "    </tr>\n",
       "  </tbody>\n",
       "</table>\n",
       "</div>"
      ],
      "text/plain": [
       "   q_A  q_B  mult_A  mult_B  mult_total\n",
       "0    0    6       1      28          28\n",
       "1    1    5       3      21          63\n",
       "2    2    4       6      15          90\n",
       "3    3    3      10      10         100\n",
       "4    4    2      15       6          90\n",
       "5    5    1      21       3          63\n",
       "6    6    0      28       1          28"
      ]
     },
     "execution_count": 6,
     "metadata": {},
     "output_type": "execute_result"
    }
   ],
   "source": [
    "table0"
   ]
  },
  {
   "cell_type": "code",
   "execution_count": 7,
   "id": "535522bb-d262-4b3b-83c7-9ead349259a9",
   "metadata": {},
   "outputs": [
    {
     "data": {
      "text/plain": [
       "Text(0, 0.5, 'total multiplicity')"
      ]
     },
     "execution_count": 7,
     "metadata": {},
     "output_type": "execute_result"
    },
    {
     "data": {
      "application/vnd.jupyter.widget-view+json": {
       "model_id": "388ef81a71264abd9d7504a72d78475a",
       "version_major": 2,
       "version_minor": 0
      },
      "image/png": "[encoded data removed]",
      "text/html": [
       "\n",
       "            <div style=\"display: inline-block;\">\n",
       "                <div class=\"jupyter-widgets widget-label\" style=\"text-align: center;\">\n",
       "                    Figure\n",
       "                </div>\n",
       "                <img src='data:image/png;base64,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' width=640.0/>\n",
       "            </div>\n",
       "        "
      ],
      "text/plain": [
       "Canvas(toolbar=Toolbar(toolitems=[('Home', 'Reset original view', 'home', 'home'), ('Back', 'Back to previous …"
      ]
     },
     "metadata": {},
     "output_type": "display_data"
    }
   ],
   "source": [
    "fig0, ax0 = plt.subplots()\n",
    "\n",
    "ax0.bar(table0['q_A'], table0['mult_total'])\n",
    "ax0.set_xlabel('q_A')\n",
    "ax0.set_ylabel('total multiplicity')"
   ]
  },
  {
   "cell_type": "code",
   "execution_count": 8,
   "id": "9c2ec555-3b3d-4da0-8873-fd9b9c30872b",
   "metadata": {},
   "outputs": [
    {
     "data": {
      "text/plain": [
       "462"
      ]
     },
     "execution_count": 8,
     "metadata": {},
     "output_type": "execute_result"
    }
   ],
   "source": [
    "table0['mult_total'].sum()"
   ]
  },
  {
   "cell_type": "code",
   "execution_count": 9,
   "id": "e53057a8-c425-4c11-8698-1271c6fcfb65",
   "metadata": {},
   "outputs": [
    {
     "data": {
      "text/plain": [
       "462"
      ]
     },
     "execution_count": 9,
     "metadata": {},
     "output_type": "execute_result"
    }
   ],
   "source": [
    "multiplicity(6,6)"
   ]
  },
  {
   "cell_type": "code",
   "execution_count": 10,
   "id": "04b5d0fa-15bb-4d3c-ac39-dc57f05dc3b2",
   "metadata": {},
   "outputs": [
    {
     "data": {
      "text/plain": [
       "q_A             3\n",
       "q_B             3\n",
       "mult_A         10\n",
       "mult_B         10\n",
       "mult_total    100\n",
       "Name: 3, dtype: int64"
      ]
     },
     "execution_count": 10,
     "metadata": {},
     "output_type": "execute_result"
    }
   ],
   "source": [
    "table0.sort_values('mult_total', ascending=False).iloc[0]"
   ]
  },
  {
   "cell_type": "code",
   "execution_count": 11,
   "id": "8b7f5640-1c04-40f1-988a-5290c872d209",
   "metadata": {},
   "outputs": [],
   "source": [
    "table0['probability'] = table0['mult_total']/table0['mult_total'].sum()"
   ]
  },
  {
   "cell_type": "code",
   "execution_count": 12,
   "id": "19c52098-71ba-4365-abdd-bcff1bad460d",
   "metadata": {},
   "outputs": [
    {
     "data": {
      "text/html": [
       "<div>\n",
       "<style scoped>\n",
       "    .dataframe tbody tr th:only-of-type {\n",
       "        vertical-align: middle;\n",
       "    }\n",
       "\n",
       "    .dataframe tbody tr th {\n",
       "        vertical-align: top;\n",
       "    }\n",
       "\n",
       "    .dataframe thead th {\n",
       "        text-align: right;\n",
       "    }\n",
       "</style>\n",
       "<table border=\"1\" class=\"dataframe\">\n",
       "  <thead>\n",
       "    <tr style=\"text-align: right;\">\n",
       "      <th></th>\n",
       "      <th>q_A</th>\n",
       "      <th>q_B</th>\n",
       "      <th>mult_A</th>\n",
       "      <th>mult_B</th>\n",
       "      <th>mult_total</th>\n",
       "      <th>probability</th>\n",
       "    </tr>\n",
       "  </thead>\n",
       "  <tbody>\n",
       "    <tr>\n",
       "      <th>0</th>\n",
       "      <td>0</td>\n",
       "      <td>6</td>\n",
       "      <td>1</td>\n",
       "      <td>28</td>\n",
       "      <td>28</td>\n",
       "      <td>0.060606</td>\n",
       "    </tr>\n",
       "    <tr>\n",
       "      <th>1</th>\n",
       "      <td>1</td>\n",
       "      <td>5</td>\n",
       "      <td>3</td>\n",
       "      <td>21</td>\n",
       "      <td>63</td>\n",
       "      <td>0.136364</td>\n",
       "    </tr>\n",
       "    <tr>\n",
       "      <th>2</th>\n",
       "      <td>2</td>\n",
       "      <td>4</td>\n",
       "      <td>6</td>\n",
       "      <td>15</td>\n",
       "      <td>90</td>\n",
       "      <td>0.194805</td>\n",
       "    </tr>\n",
       "    <tr>\n",
       "      <th>3</th>\n",
       "      <td>3</td>\n",
       "      <td>3</td>\n",
       "      <td>10</td>\n",
       "      <td>10</td>\n",
       "      <td>100</td>\n",
       "      <td>0.216450</td>\n",
       "    </tr>\n",
       "    <tr>\n",
       "      <th>4</th>\n",
       "      <td>4</td>\n",
       "      <td>2</td>\n",
       "      <td>15</td>\n",
       "      <td>6</td>\n",
       "      <td>90</td>\n",
       "      <td>0.194805</td>\n",
       "    </tr>\n",
       "    <tr>\n",
       "      <th>5</th>\n",
       "      <td>5</td>\n",
       "      <td>1</td>\n",
       "      <td>21</td>\n",
       "      <td>3</td>\n",
       "      <td>63</td>\n",
       "      <td>0.136364</td>\n",
       "    </tr>\n",
       "    <tr>\n",
       "      <th>6</th>\n",
       "      <td>6</td>\n",
       "      <td>0</td>\n",
       "      <td>28</td>\n",
       "      <td>1</td>\n",
       "      <td>28</td>\n",
       "      <td>0.060606</td>\n",
       "    </tr>\n",
       "  </tbody>\n",
       "</table>\n",
       "</div>"
      ],
      "text/plain": [
       "   q_A  q_B  mult_A  mult_B  mult_total  probability\n",
       "0    0    6       1      28          28     0.060606\n",
       "1    1    5       3      21          63     0.136364\n",
       "2    2    4       6      15          90     0.194805\n",
       "3    3    3      10      10         100     0.216450\n",
       "4    4    2      15       6          90     0.194805\n",
       "5    5    1      21       3          63     0.136364\n",
       "6    6    0      28       1          28     0.060606"
      ]
     },
     "execution_count": 12,
     "metadata": {},
     "output_type": "execute_result"
    }
   ],
   "source": [
    "table0"
   ]
  },
  {
   "cell_type": "code",
   "execution_count": 13,
   "id": "9e30be8b-fa7a-4709-b3b8-c1d1a624760e",
   "metadata": {},
   "outputs": [],
   "source": [
    "def multiTable(N_a, N_b, q):\n",
    "    table0 = pd.DataFrame()\n",
    "    table0['q_A'] = range(0,q+1, 1)\n",
    "    table0['q_B'] = range(q, 0-1, -1)\n",
    "    table0['mult_A'] = [multiplicity(N_a, i) for i in table0['q_A']]\n",
    "    table0['mult_B'] = [multiplicity(N_b, i) for i in table0['q_B']]\n",
    "    table0['mult_total'] = table0['mult_A']*table0['mult_B']\n",
    "    table0['probability'] = table0['mult_total']/table0['mult_total'].sum()\n",
    "    return table0"
   ]
  },
  {
   "cell_type": "code",
   "execution_count": 14,
   "id": "1cfe4d9a-786c-454e-8965-609302e9b045",
   "metadata": {},
   "outputs": [],
   "source": [
    "table1 = multiTable(300, 200, 100)"
   ]
  },
  {
   "cell_type": "code",
   "execution_count": 15,
   "id": "8175a9a0-6703-4a4d-9a9a-598b06213a3c",
   "metadata": {},
   "outputs": [
    {
     "data": {
      "text/plain": [
       "Text(0, 0.5, 'total multiplicity')"
      ]
     },
     "execution_count": 15,
     "metadata": {},
     "output_type": "execute_result"
    },
    {
     "data": {
      "application/vnd.jupyter.widget-view+json": {
       "model_id": "2beca50e623d4424b89f1f4079d9cc78",
       "version_major": 2,
       "version_minor": 0
      },
      "image/png": "[encoded data removed]",
      "text/html": [
       "\n",
       "            <div style=\"display: inline-block;\">\n",
       "                <div class=\"jupyter-widgets widget-label\" style=\"text-align: center;\">\n",
       "                    Figure\n",
       "                </div>\n",
       "                <img src='data:image/png;base64,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' width=640.0/>\n",
       "            </div>\n",
       "        "
      ],
      "text/plain": [
       "Canvas(toolbar=Toolbar(toolitems=[('Home', 'Reset original view', 'home', 'home'), ('Back', 'Back to previous …"
      ]
     },
     "metadata": {},
     "output_type": "display_data"
    }
   ],
   "source": [
    "fig1, ax1 = plt.subplots()\n",
    "\n",
    "ax1.plot(table1['q_A'], table1['mult_total'], 'o', mfc='None')\n",
    "\n",
    "ax1.set_xlabel('q_A')\n",
    "ax1.set_ylabel('total multiplicity')"
   ]
  },
  {
   "cell_type": "code",
   "execution_count": 16,
   "id": "d030b8d2-00a6-46b6-9cc1-45677463afc3",
   "metadata": {},
   "outputs": [
    {
     "data": {
      "application/vnd.jupyter.widget-view+json": {
       "model_id": "aca74b514a374be6a4d460a8b05ecb2f",
       "version_major": 2,
       "version_minor": 0
      },
      "image/png": "[encoded data removed]",
      "text/html": [
       "\n",
       "            <div style=\"display: inline-block;\">\n",
       "                <div class=\"jupyter-widgets widget-label\" style=\"text-align: center;\">\n",
       "                    Figure\n",
       "                </div>\n",
       "                <img src='data:image/png;base64,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' width=640.0/>\n",
       "            </div>\n",
       "        "
      ],
      "text/plain": [
       "Canvas(toolbar=Toolbar(toolitems=[('Home', 'Reset original view', 'home', 'home'), ('Back', 'Back to previous …"
      ]
     },
     "metadata": {},
     "output_type": "display_data"
    }
   ],
   "source": [
    "fig2, ax2 = plt.subplots()\n",
    "\n"
   ]
  }
 ],
 "metadata": {
  "kernelspec": {
   "display_name": "Python 3 (ipykernel)",
   "language": "python",
   "name": "python3"
  },
  "language_info": {
   "codemirror_mode": {
    "name": "ipython",
    "version": 3
   },
   "file_extension": ".py",
   "mimetype": "text/x-python",
   "name": "python",
   "nbconvert_exporter": "python",
   "pygments_lexer": "ipython3",
   "version": "3.12.2"
  }
 },
 "nbformat": 4,
 "nbformat_minor": 5
}
