{
 "cells": [
  {
   "cell_type": "code",
   "execution_count": 40,
   "id": "d3056e65-84b9-493a-953f-f209352c5da5",
   "metadata": {},
   "outputs": [],
   "source": [
    "%matplotlib widget"
   ]
  },
  {
   "cell_type": "code",
   "execution_count": 2,
   "id": "0c1ce9cc-4c09-4c58-ae28-7863201e1193",
   "metadata": {},
   "outputs": [],
   "source": [
    "import numpy as np\n",
    "import pandas as pd\n",
    "import matplotlib.pyplot as plt\n",
    "import scipy.special as sp\n"
   ]
  },
  {
   "cell_type": "code",
   "execution_count": 3,
   "id": "f7679c70-ac92-4dc2-917f-35bc93a2fd13",
   "metadata": {},
   "outputs": [],
   "source": [
    "pd.set_option('display.max_colwidth', None)\n",
    "pd.set_option('display.max_columns', None)\n",
    "pd.set_option('display.max_rows', None)"
   ]
  },
  {
   "cell_type": "code",
   "execution_count": 4,
   "id": "813533ce-c1b0-4ebc-9cf3-0fe387ac61d8",
   "metadata": {},
   "outputs": [],
   "source": [
    "def factorial(x):\n",
    "    return sp.factorial(x, exact=True)\n",
    "\n",
    "def multiplicity(N, q):\n",
    "    return factorial(q+N-1)//factorial(q)//factorial(N-1)\n",
    "\n",
    "def logArray(array):\n",
    "    import math\n",
    "    return [math.log(x) for x in array]"
   ]
  },
  {
   "cell_type": "markdown",
   "id": "376442cf-f6c4-4b7e-92bc-5e4e87959b0e",
   "metadata": {},
   "source": [
    "## two einstein solids\n",
    "\n",
    "### 3 particles each and 6 energy units"
   ]
  },
  {
   "cell_type": "code",
   "execution_count": 5,
   "id": "a25cf281-6788-4cbf-8d60-4ce11d64713d",
   "metadata": {},
   "outputs": [],
   "source": [
    "table0 = pd.DataFrame()\n",
    "table0['q_A'] = range(0,6+1, 1)\n",
    "table0['q_B'] = range(6, 0-1, -1)\n",
    "table0['mult_A'] = [multiplicity(3, i) for i in table0['q_A']]\n",
    "table0['mult_B'] = [multiplicity(3, i) for i in table0['q_B']]\n",
    "table0['mult_total'] = table0['mult_A']*table0['mult_B']"
   ]
  },
  {
   "cell_type": "code",
   "execution_count": 6,
   "id": "e4116154-2227-4822-b3e2-0f7209ebad67",
   "metadata": {},
   "outputs": [
    {
     "data": {
      "text/html": [
       "<div>\n",
       "<style scoped>\n",
       "    .dataframe tbody tr th:only-of-type {\n",
       "        vertical-align: middle;\n",
       "    }\n",
       "\n",
       "    .dataframe tbody tr th {\n",
       "        vertical-align: top;\n",
       "    }\n",
       "\n",
       "    .dataframe thead th {\n",
       "        text-align: right;\n",
       "    }\n",
       "</style>\n",
       "<table border=\"1\" class=\"dataframe\">\n",
       "  <thead>\n",
       "    <tr style=\"text-align: right;\">\n",
       "      <th></th>\n",
       "      <th>q_A</th>\n",
       "      <th>q_B</th>\n",
       "      <th>mult_A</th>\n",
       "      <th>mult_B</th>\n",
       "      <th>mult_total</th>\n",
       "    </tr>\n",
       "  </thead>\n",
       "  <tbody>\n",
       "    <tr>\n",
       "      <th>0</th>\n",
       "      <td>0</td>\n",
       "      <td>6</td>\n",
       "      <td>1</td>\n",
       "      <td>28</td>\n",
       "      <td>28</td>\n",
       "    </tr>\n",
       "    <tr>\n",
       "      <th>1</th>\n",
       "      <td>1</td>\n",
       "      <td>5</td>\n",
       "      <td>3</td>\n",
       "      <td>21</td>\n",
       "      <td>63</td>\n",
       "    </tr>\n",
       "    <tr>\n",
       "      <th>2</th>\n",
       "      <td>2</td>\n",
       "      <td>4</td>\n",
       "      <td>6</td>\n",
       "      <td>15</td>\n",
       "      <td>90</td>\n",
       "    </tr>\n",
       "    <tr>\n",
       "      <th>3</th>\n",
       "      <td>3</td>\n",
       "      <td>3</td>\n",
       "      <td>10</td>\n",
       "      <td>10</td>\n",
       "      <td>100</td>\n",
       "    </tr>\n",
       "    <tr>\n",
       "      <th>4</th>\n",
       "      <td>4</td>\n",
       "      <td>2</td>\n",
       "      <td>15</td>\n",
       "      <td>6</td>\n",
       "      <td>90</td>\n",
       "    </tr>\n",
       "    <tr>\n",
       "      <th>5</th>\n",
       "      <td>5</td>\n",
       "      <td>1</td>\n",
       "      <td>21</td>\n",
       "      <td>3</td>\n",
       "      <td>63</td>\n",
       "    </tr>\n",
       "    <tr>\n",
       "      <th>6</th>\n",
       "      <td>6</td>\n",
       "      <td>0</td>\n",
       "      <td>28</td>\n",
       "      <td>1</td>\n",
       "      <td>28</td>\n",
       "    </tr>\n",
       "  </tbody>\n",
       "</table>\n",
       "</div>"
      ],
      "text/plain": [
       "   q_A  q_B  mult_A  mult_B  mult_total\n",
       "0    0    6       1      28          28\n",
       "1    1    5       3      21          63\n",
       "2    2    4       6      15          90\n",
       "3    3    3      10      10         100\n",
       "4    4    2      15       6          90\n",
       "5    5    1      21       3          63\n",
       "6    6    0      28       1          28"
      ]
     },
     "execution_count": 6,
     "metadata": {},
     "output_type": "execute_result"
    }
   ],
   "source": [
    "table0"
   ]
  },
  {
   "cell_type": "code",
   "execution_count": 16,
   "id": "535522bb-d262-4b3b-83c7-9ead349259a9",
   "metadata": {},
   "outputs": [
    {
     "data": {
      "text/plain": [
       "Text(0, 0.5, 'total multiplicity')"
      ]
     },
     "execution_count": 16,
     "metadata": {},
     "output_type": "execute_result"
    },
    {
     "data": {
      "image/png": "[encoded data removed]",
      "text/plain": [
       "<Figure size 640x480 with 1 Axes>"
      ]
     },
     "metadata": {},
     "output_type": "display_data"
    }
   ],
   "source": [
    "fig0, ax0 = plt.subplots()\n",
    "\n",
    "ax0.bar(table0['q_A'], table0['mult_total'])\n",
    "ax0.set_xlabel('q_A')\n",
    "ax0.set_ylabel('total multiplicity')"
   ]
  },
  {
   "cell_type": "code",
   "execution_count": 17,
   "id": "9c2ec555-3b3d-4da0-8873-fd9b9c30872b",
   "metadata": {},
   "outputs": [
    {
     "data": {
      "text/plain": [
       "462"
      ]
     },
     "execution_count": 17,
     "metadata": {},
     "output_type": "execute_result"
    }
   ],
   "source": [
    "table0['mult_total'].sum()"
   ]
  },
  {
   "cell_type": "code",
   "execution_count": 18,
   "id": "e53057a8-c425-4c11-8698-1271c6fcfb65",
   "metadata": {},
   "outputs": [
    {
     "data": {
      "text/plain": [
       "462"
      ]
     },
     "execution_count": 18,
     "metadata": {},
     "output_type": "execute_result"
    }
   ],
   "source": [
    "multiplicity(6,6)"
   ]
  },
  {
   "cell_type": "code",
   "execution_count": 24,
   "id": "04b5d0fa-15bb-4d3c-ac39-dc57f05dc3b2",
   "metadata": {},
   "outputs": [
    {
     "data": {
      "text/plain": [
       "q_A             3\n",
       "q_B             3\n",
       "mult_A         10\n",
       "mult_B         10\n",
       "mult_total    100\n",
       "Name: 3, dtype: int64"
      ]
     },
     "execution_count": 24,
     "metadata": {},
     "output_type": "execute_result"
    }
   ],
   "source": [
    "table0.sort_values('mult_total', ascending=False).iloc[0]"
   ]
  },
  {
   "cell_type": "code",
   "execution_count": 26,
   "id": "8b7f5640-1c04-40f1-988a-5290c872d209",
   "metadata": {},
   "outputs": [],
   "source": [
    "table0['probability'] = table0['mult_total']/table0['mult_total'].sum()"
   ]
  },
  {
   "cell_type": "code",
   "execution_count": 27,
   "id": "19c52098-71ba-4365-abdd-bcff1bad460d",
   "metadata": {},
   "outputs": [
    {
     "data": {
      "text/html": [
       "<div>\n",
       "<style scoped>\n",
       "    .dataframe tbody tr th:only-of-type {\n",
       "        vertical-align: middle;\n",
       "    }\n",
       "\n",
       "    .dataframe tbody tr th {\n",
       "        vertical-align: top;\n",
       "    }\n",
       "\n",
       "    .dataframe thead th {\n",
       "        text-align: right;\n",
       "    }\n",
       "</style>\n",
       "<table border=\"1\" class=\"dataframe\">\n",
       "  <thead>\n",
       "    <tr style=\"text-align: right;\">\n",
       "      <th></th>\n",
       "      <th>q_A</th>\n",
       "      <th>q_B</th>\n",
       "      <th>mult_A</th>\n",
       "      <th>mult_B</th>\n",
       "      <th>mult_total</th>\n",
       "      <th>probability</th>\n",
       "    </tr>\n",
       "  </thead>\n",
       "  <tbody>\n",
       "    <tr>\n",
       "      <th>0</th>\n",
       "      <td>0</td>\n",
       "      <td>6</td>\n",
       "      <td>1</td>\n",
       "      <td>28</td>\n",
       "      <td>28</td>\n",
       "      <td>0.060606</td>\n",
       "    </tr>\n",
       "    <tr>\n",
       "      <th>1</th>\n",
       "      <td>1</td>\n",
       "      <td>5</td>\n",
       "      <td>3</td>\n",
       "      <td>21</td>\n",
       "      <td>63</td>\n",
       "      <td>0.136364</td>\n",
       "    </tr>\n",
       "    <tr>\n",
       "      <th>2</th>\n",
       "      <td>2</td>\n",
       "      <td>4</td>\n",
       "      <td>6</td>\n",
       "      <td>15</td>\n",
       "      <td>90</td>\n",
       "      <td>0.194805</td>\n",
       "    </tr>\n",
       "    <tr>\n",
       "      <th>3</th>\n",
       "      <td>3</td>\n",
       "      <td>3</td>\n",
       "      <td>10</td>\n",
       "      <td>10</td>\n",
       "      <td>100</td>\n",
       "      <td>0.216450</td>\n",
       "    </tr>\n",
       "    <tr>\n",
       "      <th>4</th>\n",
       "      <td>4</td>\n",
       "      <td>2</td>\n",
       "      <td>15</td>\n",
       "      <td>6</td>\n",
       "      <td>90</td>\n",
       "      <td>0.194805</td>\n",
       "    </tr>\n",
       "    <tr>\n",
       "      <th>5</th>\n",
       "      <td>5</td>\n",
       "      <td>1</td>\n",
       "      <td>21</td>\n",
       "      <td>3</td>\n",
       "      <td>63</td>\n",
       "      <td>0.136364</td>\n",
       "    </tr>\n",
       "    <tr>\n",
       "      <th>6</th>\n",
       "      <td>6</td>\n",
       "      <td>0</td>\n",
       "      <td>28</td>\n",
       "      <td>1</td>\n",
       "      <td>28</td>\n",
       "      <td>0.060606</td>\n",
       "    </tr>\n",
       "  </tbody>\n",
       "</table>\n",
       "</div>"
      ],
      "text/plain": [
       "   q_A  q_B  mult_A  mult_B  mult_total  probability\n",
       "0    0    6       1      28          28     0.060606\n",
       "1    1    5       3      21          63     0.136364\n",
       "2    2    4       6      15          90     0.194805\n",
       "3    3    3      10      10         100     0.216450\n",
       "4    4    2      15       6          90     0.194805\n",
       "5    5    1      21       3          63     0.136364\n",
       "6    6    0      28       1          28     0.060606"
      ]
     },
     "execution_count": 27,
     "metadata": {},
     "output_type": "execute_result"
    }
   ],
   "source": [
    "table0"
   ]
  },
  {
   "cell_type": "code",
   "execution_count": 34,
   "id": "9e30be8b-fa7a-4709-b3b8-c1d1a624760e",
   "metadata": {},
   "outputs": [],
   "source": [
    "def multiTable(N_a, N_b, q):\n",
    "    table0 = pd.DataFrame()\n",
    "    table0['q_A'] = range(0,q+1, 1)\n",
    "    table0['q_B'] = range(q, 0-1, -1)\n",
    "    table0['mult_A'] = [multiplicity(N_a, i) for i in table0['q_A']]\n",
    "    table0['mult_B'] = [multiplicity(N_b, i) for i in table0['q_B']]\n",
    "    table0['mult_total'] = table0['mult_A']*table0['mult_B']\n",
    "    table0['probability'] = table0['mult_total']/table0['mult_total'].sum()\n",
    "    return table0"
   ]
  },
  {
   "cell_type": "code",
   "execution_count": 36,
   "id": "1cfe4d9a-786c-454e-8965-609302e9b045",
   "metadata": {},
   "outputs": [],
   "source": [
    "table1 = multiTable(300, 200, 100)"
   ]
  },
  {
   "cell_type": "code",
   "execution_count": 41,
   "id": "8175a9a0-6703-4a4d-9a9a-598b06213a3c",
   "metadata": {},
   "outputs": [
    {
     "data": {
      "text/plain": [
       "Text(0, 0.5, 'total multiplicity')"
      ]
     },
     "execution_count": 41,
     "metadata": {},
     "output_type": "execute_result"
    },
    {
     "data": {
      "application/vnd.jupyter.widget-view+json": {
       "model_id": "45267250017c40dbad26bd231b54a981",
       "version_major": 2,
       "version_minor": 0
      },
      "image/png": "[encoded data removed]",
      "text/html": [
       "\n",
       "            <div style=\"display: inline-block;\">\n",
       "                <div class=\"jupyter-widgets widget-label\" style=\"text-align: center;\">\n",
       "                    Figure\n",
       "                </div>\n",
       "                <img src='data:image/png;base64,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' width=640.0/>\n",
       "            </div>\n",
       "        "
      ],
      "text/plain": [
       "Canvas(toolbar=None)"
      ]
     },
     "metadata": {},
     "output_type": "display_data"
    }
   ],
   "source": [
    "fig1, ax1 = plt.subplots()\n",
    "\n",
    "ax1.plot(table1['q_A'], table1['mult_total'], 'o', mfc='None')\n",
    "\n",
    "ax1.set_xlabel('q_A')\n",
    "ax1.set_ylabel('total multiplicity')"
   ]
  },
  {
   "cell_type": "code",
   "execution_count": null,
   "id": "d030b8d2-00a6-46b6-9cc1-45677463afc3",
   "metadata": {},
   "outputs": [],
   "source": [
    "fig2, ax2 = plt.subplots()\n",
    "\n"
   ]
  }
 ],
 "metadata": {
  "kernelspec": {
   "display_name": "Python 3 (ipykernel)",
   "language": "python",
   "name": "python3"
  },
  "language_info": {
   "codemirror_mode": {
    "name": "ipython",
    "version": 3
   },
   "file_extension": ".py",
   "mimetype": "text/x-python",
   "name": "python",
   "nbconvert_exporter": "python",
   "pygments_lexer": "ipython3",
   "version": "3.12.2"
  }
 },
 "nbformat": 4,
 "nbformat_minor": 5
}
