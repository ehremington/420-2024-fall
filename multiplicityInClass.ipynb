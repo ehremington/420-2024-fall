{
 "cells": [
  {
   "cell_type": "code",
   "execution_count": 1,
   "id": "d3056e65-84b9-493a-953f-f209352c5da5",
   "metadata": {},
   "outputs": [],
   "source": [
    "%matplotlib widget"
   ]
  },
  {
   "cell_type": "code",
   "execution_count": 2,
   "id": "0c1ce9cc-4c09-4c58-ae28-7863201e1193",
   "metadata": {},
   "outputs": [],
   "source": [
    "import numpy as np\n",
    "import pandas as pd\n",
    "import matplotlib.pyplot as plt\n",
    "import scipy.special as sp\n"
   ]
  },
  {
   "cell_type": "code",
   "execution_count": 3,
   "id": "f7679c70-ac92-4dc2-917f-35bc93a2fd13",
   "metadata": {},
   "outputs": [],
   "source": [
    "pd.set_option('display.max_colwidth', None)\n",
    "pd.set_option('display.max_columns', None)\n",
    "pd.set_option('display.max_rows', None)"
   ]
  },
  {
   "cell_type": "code",
   "execution_count": 12,
   "id": "813533ce-c1b0-4ebc-9cf3-0fe387ac61d8",
   "metadata": {},
   "outputs": [],
   "source": [
    "def factorial(x):\n",
    "    return sp.factorial(x, exact=True)\n",
    "\n",
    "def multiplicity(N, q):\n",
    "    return factorial(q+N-1)//factorial(q)//factorial(N-1)\n",
    "\n",
    "def logArray(array):\n",
    "    import math\n",
    "    return [math.log(x) for x in array]"
   ]
  },
  {
   "cell_type": "markdown",
   "id": "376442cf-f6c4-4b7e-92bc-5e4e87959b0e",
   "metadata": {},
   "source": [
    "## two einstein solids\n",
    "\n",
    "### 3 particles each and 6 energy units"
   ]
  },
  {
   "cell_type": "code",
   "execution_count": 24,
   "id": "a25cf281-6788-4cbf-8d60-4ce11d64713d",
   "metadata": {},
   "outputs": [],
   "source": [
    "table0 = pd.DataFrame()\n",
    "table0['q_A'] = range(0,6+1, 1)\n",
    "table0['q_B'] = range(6, 0-1, -1)\n",
    "table0['mult_A'] = [multiplicity(3, i) for i in table0['q_A']]\n",
    "table0['mult_B'] = [multiplicity(3, i) for i in table0['q_B']]\n",
    "table0['mult_total'] = table0['mult_A']*table0['mult_B']"
   ]
  },
  {
   "cell_type": "code",
   "execution_count": 25,
   "id": "e4116154-2227-4822-b3e2-0f7209ebad67",
   "metadata": {},
   "outputs": [
    {
     "data": {
      "text/html": [
       "<div>\n",
       "<style scoped>\n",
       "    .dataframe tbody tr th:only-of-type {\n",
       "        vertical-align: middle;\n",
       "    }\n",
       "\n",
       "    .dataframe tbody tr th {\n",
       "        vertical-align: top;\n",
       "    }\n",
       "\n",
       "    .dataframe thead th {\n",
       "        text-align: right;\n",
       "    }\n",
       "</style>\n",
       "<table border=\"1\" class=\"dataframe\">\n",
       "  <thead>\n",
       "    <tr style=\"text-align: right;\">\n",
       "      <th></th>\n",
       "      <th>q_A</th>\n",
       "      <th>q_B</th>\n",
       "      <th>mult_A</th>\n",
       "      <th>mult_B</th>\n",
       "      <th>mult_total</th>\n",
       "    </tr>\n",
       "  </thead>\n",
       "  <tbody>\n",
       "    <tr>\n",
       "      <th>0</th>\n",
       "      <td>0</td>\n",
       "      <td>6</td>\n",
       "      <td>1</td>\n",
       "      <td>28</td>\n",
       "      <td>28</td>\n",
       "    </tr>\n",
       "    <tr>\n",
       "      <th>1</th>\n",
       "      <td>1</td>\n",
       "      <td>5</td>\n",
       "      <td>3</td>\n",
       "      <td>21</td>\n",
       "      <td>63</td>\n",
       "    </tr>\n",
       "    <tr>\n",
       "      <th>2</th>\n",
       "      <td>2</td>\n",
       "      <td>4</td>\n",
       "      <td>6</td>\n",
       "      <td>15</td>\n",
       "      <td>90</td>\n",
       "    </tr>\n",
       "    <tr>\n",
       "      <th>3</th>\n",
       "      <td>3</td>\n",
       "      <td>3</td>\n",
       "      <td>10</td>\n",
       "      <td>10</td>\n",
       "      <td>100</td>\n",
       "    </tr>\n",
       "    <tr>\n",
       "      <th>4</th>\n",
       "      <td>4</td>\n",
       "      <td>2</td>\n",
       "      <td>15</td>\n",
       "      <td>6</td>\n",
       "      <td>90</td>\n",
       "    </tr>\n",
       "    <tr>\n",
       "      <th>5</th>\n",
       "      <td>5</td>\n",
       "      <td>1</td>\n",
       "      <td>21</td>\n",
       "      <td>3</td>\n",
       "      <td>63</td>\n",
       "    </tr>\n",
       "    <tr>\n",
       "      <th>6</th>\n",
       "      <td>6</td>\n",
       "      <td>0</td>\n",
       "      <td>28</td>\n",
       "      <td>1</td>\n",
       "      <td>28</td>\n",
       "    </tr>\n",
       "  </tbody>\n",
       "</table>\n",
       "</div>"
      ],
      "text/plain": [
       "   q_A  q_B  mult_A  mult_B  mult_total\n",
       "0    0    6       1      28          28\n",
       "1    1    5       3      21          63\n",
       "2    2    4       6      15          90\n",
       "3    3    3      10      10         100\n",
       "4    4    2      15       6          90\n",
       "5    5    1      21       3          63\n",
       "6    6    0      28       1          28"
      ]
     },
     "execution_count": 25,
     "metadata": {},
     "output_type": "execute_result"
    }
   ],
   "source": [
    "table0"
   ]
  },
  {
   "cell_type": "code",
   "execution_count": null,
   "id": "535522bb-d262-4b3b-83c7-9ead349259a9",
   "metadata": {},
   "outputs": [],
   "source": []
  }
 ],
 "metadata": {
  "kernelspec": {
   "display_name": "Python 3 (ipykernel)",
   "language": "python",
   "name": "python3"
  },
  "language_info": {
   "codemirror_mode": {
    "name": "ipython",
    "version": 3
   },
   "file_extension": ".py",
   "mimetype": "text/x-python",
   "name": "python",
   "nbconvert_exporter": "python",
   "pygments_lexer": "ipython3",
   "version": "3.12.4"
  }
 },
 "nbformat": 4,
 "nbformat_minor": 5
}
